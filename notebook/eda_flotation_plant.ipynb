{
 "cells": [
  {
   "cell_type": "markdown",
   "metadata": {},
   "source": [
    "# Project outline\n",
    "\n",
    "Objective: predict % of silica in the iron ore concentrate.\n",
    "\n",
    "Attention points:\n",
    "* Data is not sampled in uniform frequency\n",
    "* Columns 2 and 3 are before feeding into the process (consider retention time)\n",
    "* Columns 4:8 are relevant quality measurements in the end of the process (probably doesnt need retention time)\n",
    "* Columns 9:22 are process data\n",
    "* Last column is % of silica in the iron ore concentrate and is a lab measurement\n"
   ]
  },
  {
   "cell_type": "markdown",
   "metadata": {},
   "source": []
  },
  {
   "cell_type": "code",
   "execution_count": null,
   "metadata": {},
   "outputs": [],
   "source": []
  }
 ],
 "metadata": {
  "kernelspec": {
   "display_name": "repos",
   "language": "python",
   "name": "python3"
  },
  "language_info": {
   "name": "python",
   "version": "3.10.10"
  }
 },
 "nbformat": 4,
 "nbformat_minor": 2
}
